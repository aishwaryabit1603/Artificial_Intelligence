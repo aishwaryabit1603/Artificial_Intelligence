{
  "nbformat": 4,
  "nbformat_minor": 0,
  "metadata": {
    "colab": {
      "provenance": [],
      "authorship_tag": "ABX9TyN1hzo/V2wjUa2iwHydX+Tl",
      "include_colab_link": true
    },
    "kernelspec": {
      "name": "python3",
      "display_name": "Python 3"
    },
    "language_info": {
      "name": "python"
    }
  },
  "cells": [
    {
      "cell_type": "markdown",
      "metadata": {
        "id": "view-in-github",
        "colab_type": "text"
      },
      "source": [
        "<a href=\"https://colab.research.google.com/github/aishwaryabit1603/Artificial_Intelligence/blob/main/steepest_hill.ipynb\" target=\"_parent\"><img src=\"https://colab.research.google.com/assets/colab-badge.svg\" alt=\"Open In Colab\"/></a>"
      ]
    },
    {
      "cell_type": "code",
      "execution_count": 31,
      "metadata": {
        "id": "JIFoSV0SU8MD"
      },
      "outputs": [],
      "source": [
        "graph = {\n",
        "    'A': [[10, 'B'], [8, 'J'], [9, 'F']],\n",
        "    'B': [[4, 'D'], [2, 'C']],\n",
        "    'J': [[0, 'K']],\n",
        "    'F': [[5, 'E'], [3, 'G']],\n",
        "    'C': [[0, 'H']],\n",
        "    'E': [[6, 'I']],\n",
        "    'I': [[0, 'K']]\n",
        "}"
      ]
    },
    {
      "cell_type": "code",
      "source": [
        "from queue import PriorityQueue\n",
        "def steepest_hill(start,goal,Hvalue,parent):\n",
        "  open = []\n",
        "  close = []\n",
        "\n",
        "  open.append([int(Hvalue),start,parent])\n",
        "  while 1:\n",
        "    print(\"Open - \",open)\n",
        "    print(\"close - \",close)\n",
        "\n",
        "    h,node,parent = open.pop()\n",
        "    close.append([node,parent])\n",
        "\n",
        "    if node in goal:\n",
        "      print(\"Goal Node Found\")\n",
        "      print(\"Path - \")\n",
        "      for i in close:\n",
        "        print(i[0])\n",
        "      break\n",
        "\n",
        "    # check if node has children or not\n",
        "    if node not in graph:\n",
        "      print(\"Goal Node Not found, stuck in local maxima\")\n",
        "      break\n",
        "\n",
        "    q = PriorityQueue()\n",
        "    for i in graph[node]:\n",
        "      q.put([i[0],i[1],node])\n",
        "\n",
        "    h_child,n1,p1 = q.get()\n",
        "    if h_child >= h:\n",
        "      print(\"Goal Node Not Found, Stuck in local maxima\")\n",
        "      break\n",
        "\n",
        "    ele = [h_child,n1,p1]\n",
        "    open.append(ele)\n"
      ],
      "metadata": {
        "id": "nSlE3ylQVGwu"
      },
      "execution_count": 34,
      "outputs": []
    },
    {
      "cell_type": "code",
      "source": [
        "goal = ['H','K']\n",
        "steepest_hill('A',goal,10,'-')"
      ],
      "metadata": {
        "colab": {
          "base_uri": "https://localhost:8080/"
        },
        "id": "99rfRn0ZcGP1",
        "outputId": "551acc11-5822-4cd9-a98e-1c24badd4487"
      },
      "execution_count": 35,
      "outputs": [
        {
          "output_type": "stream",
          "name": "stdout",
          "text": [
            "Open -  [[10, 'A', '-']]\n",
            "close -  []\n",
            "Open -  [[8, 'J', 'A']]\n",
            "close -  [['A', '-']]\n",
            "Open -  [[0, 'K', 'J']]\n",
            "close -  [['A', '-'], ['J', 'A']]\n",
            "Goal Node Found\n",
            "Path - \n",
            "A\n",
            "J\n",
            "K\n"
          ]
        }
      ]
    }
  ]
}