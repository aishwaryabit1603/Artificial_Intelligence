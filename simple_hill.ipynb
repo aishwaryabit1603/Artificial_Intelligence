{
  "nbformat": 4,
  "nbformat_minor": 0,
  "metadata": {
    "colab": {
      "provenance": [],
      "authorship_tag": "ABX9TyMksu8VixOD5S1pS+0du1dp",
      "include_colab_link": true
    },
    "kernelspec": {
      "name": "python3",
      "display_name": "Python 3"
    },
    "language_info": {
      "name": "python"
    }
  },
  "cells": [
    {
      "cell_type": "markdown",
      "metadata": {
        "id": "view-in-github",
        "colab_type": "text"
      },
      "source": [
        "<a href=\"https://colab.research.google.com/github/aishwaryabit1603/Artificial_Intelligence/blob/main/simple_hill.ipynb\" target=\"_parent\"><img src=\"https://colab.research.google.com/assets/colab-badge.svg\" alt=\"Open In Colab\"/></a>"
      ]
    },
    {
      "cell_type": "code",
      "execution_count": 15,
      "metadata": {
        "id": "RUpnyCiGwamT"
      },
      "outputs": [],
      "source": [
        "graph = {\n",
        "    'A' : [['B',10],['J',8],['F',7]],\n",
        "    'B' : [['D',4],['C',2]],\n",
        "    'J' : [['K',0]],\n",
        "    'F' : [['E',5],['G',3]],\n",
        "    'C' : [['H',0]],\n",
        "    'E' : [['I',6]],\n",
        "    'I' : [['K',0]]\n",
        "}"
      ]
    },
    {
      "cell_type": "code",
      "source": [
        "import random\n",
        "\n",
        "def simple_hill(start,goal,Hvalue):\n",
        "  open = []\n",
        "  close = []\n",
        "\n",
        "  open.append([start,Hvalue])\n",
        "  while 1:\n",
        "    print(\"open - \", open)\n",
        "    print(\"close - \",close)\n",
        "\n",
        "    current = open.pop()\n",
        "    close.append(current)\n",
        "    if current[0] in goal:\n",
        "      print(\"Goal Node Found - \",current)\n",
        "      break\n",
        "\n",
        "    if current[0] not in graph:\n",
        "        print(\"Goal Node not Found , End Reached \")\n",
        "        break\n",
        "\n",
        "    child = graph[current[0]]\n",
        "\n",
        "    # generate child randomly\n",
        "    for i in range(len(child)):\n",
        "      random_child_index = random.randint(0,len(child)-1)\n",
        "\n",
        "      child_generated = child[random_child_index]\n",
        "      if child_generated[1] < current[1]:\n",
        "        open.append(child_generated)\n",
        "        break\n",
        "\n",
        "      # remove the already checked child\n",
        "      del child[random_child_index]\n",
        "\n",
        "    if len(open) == 1:\n",
        "      continue\n",
        "    else:\n",
        "      print(\"Goal Node not found, Stuck at Local Maxima\")\n",
        "      break\n"
      ],
      "metadata": {
        "id": "niF02sYQ0Bm1"
      },
      "execution_count": 47,
      "outputs": []
    },
    {
      "cell_type": "code",
      "source": [
        "simple_hill('A',['H','K'],10)"
      ],
      "metadata": {
        "colab": {
          "base_uri": "https://localhost:8080/"
        },
        "id": "xyo9i5M6zkKO",
        "outputId": "e0e70cd8-5036-47b9-ed57-173ada457c95"
      },
      "execution_count": 58,
      "outputs": [
        {
          "output_type": "stream",
          "name": "stdout",
          "text": [
            "open -  [['A', 10]]\n",
            "close -  []\n",
            "open -  [['F', 7]]\n",
            "close -  [['A', 10]]\n",
            "open -  [['E', 5]]\n",
            "close -  [['A', 10], ['F', 7]]\n",
            "Goal Node not found, Stuck at Local Maxima\n"
          ]
        }
      ]
    }
  ]
}