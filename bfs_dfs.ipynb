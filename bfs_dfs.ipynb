{
  "nbformat": 4,
  "nbformat_minor": 0,
  "metadata": {
    "colab": {
      "provenance": [],
      "authorship_tag": "ABX9TyMORd2ikvoDBLAa3l91e22O",
      "include_colab_link": true
    },
    "kernelspec": {
      "name": "python3",
      "display_name": "Python 3"
    },
    "language_info": {
      "name": "python"
    }
  },
  "cells": [
    {
      "cell_type": "markdown",
      "metadata": {
        "id": "view-in-github",
        "colab_type": "text"
      },
      "source": [
        "<a href=\"https://colab.research.google.com/github/aishwaryabit1603/Artificial_Intelligence/blob/main/bfs_dfs.ipynb\" target=\"_parent\"><img src=\"https://colab.research.google.com/assets/colab-badge.svg\" alt=\"Open In Colab\"/></a>"
      ]
    },
    {
      "cell_type": "code",
      "execution_count": 1,
      "metadata": {
        "id": "y-ztEypzpims"
      },
      "outputs": [],
      "source": [
        "graph = {\n",
        "    'A': ['B', 'C'],\n",
        "    'B': ['A', 'D', 'E'],\n",
        "    'C': ['A', 'F', 'G'],\n",
        "    'D': ['B'],\n",
        "    'E': ['B', 'H'],\n",
        "    'F': ['C'],\n",
        "    'G': ['C'],\n",
        "    'H': ['E']\n",
        "}\n",
        "visited = []\n",
        "queue = []\n",
        "goal_node = 'G'"
      ]
    },
    {
      "cell_type": "code",
      "source": [
        "def bfs(graph,start):\n",
        "  queue.append(start)\n",
        "  while len(queue):\n",
        "    m = queue[0];\n",
        "    print(m,end=' ')\n",
        "    queue.pop(0)\n",
        "    visited.append(m)\n",
        "    if m == goal_node:\n",
        "      print(\"\\n\",goal_node,\" Found\")\n",
        "      return\n",
        "\n",
        "    for i in graph[m]:\n",
        "      if i not in visited:\n",
        "        queue.append(i)\n"
      ],
      "metadata": {
        "id": "HIm7BezxuEgn"
      },
      "execution_count": 4,
      "outputs": []
    },
    {
      "cell_type": "code",
      "source": [
        "bfs(graph,'A')\n",
        "visited.clear()\n",
        "queue.clear()"
      ],
      "metadata": {
        "colab": {
          "base_uri": "https://localhost:8080/"
        },
        "id": "KO6LNLaGvUfR",
        "outputId": "075d6d09-123e-4c57-f643-41457f3cdf83"
      },
      "execution_count": 5,
      "outputs": [
        {
          "output_type": "stream",
          "name": "stdout",
          "text": [
            "A B C D E F G \n",
            " G  Found\n"
          ]
        }
      ]
    },
    {
      "cell_type": "code",
      "source": [
        "def dfs(graph,start,goal,ans):\n",
        "  ans.append(start)\n",
        "  if(start == goal):\n",
        "      return True\n",
        "  for i in graph[start]:\n",
        "    if i not in ans and dfs(graph,i,goal,ans):\n",
        "      return True\n",
        "\n",
        "  return False;\n",
        "\n",
        "def dfsofGraph(graph,start,goal):\n",
        "  ans = []\n",
        "  if dfs(graph,start,goal,ans):\n",
        "    print(ans)\n",
        "    print(\"Goal node Found\")\n",
        "  else:\n",
        "    print(\"Goal node not Found\")\n"
      ],
      "metadata": {
        "id": "gm6O4t4gLwtt"
      },
      "execution_count": 15,
      "outputs": []
    },
    {
      "cell_type": "code",
      "source": [
        "start = 'A'\n",
        "goal = 'G'\n",
        "dfsofGraph(graph,start,goal)"
      ],
      "metadata": {
        "colab": {
          "base_uri": "https://localhost:8080/"
        },
        "id": "8fY8bww4Mben",
        "outputId": "9fda9c43-c649-4784-caa3-020c816efc92"
      },
      "execution_count": 14,
      "outputs": [
        {
          "output_type": "stream",
          "name": "stdout",
          "text": [
            "DFS : \n",
            "Goal node Found\n",
            "['A', 'B', 'D', 'E', 'H', 'C', 'F', 'G']\n"
          ]
        }
      ]
    },
    {
      "cell_type": "code",
      "source": [],
      "metadata": {
        "id": "p86PdvfhT5im"
      },
      "execution_count": null,
      "outputs": []
    }
  ]
}