{
  "nbformat": 4,
  "nbformat_minor": 0,
  "metadata": {
    "colab": {
      "provenance": [],
      "authorship_tag": "ABX9TyMGMHYkB2of9GhMzmV1tom1",
      "include_colab_link": true
    },
    "kernelspec": {
      "name": "python3",
      "display_name": "Python 3"
    },
    "language_info": {
      "name": "python"
    }
  },
  "cells": [
    {
      "cell_type": "markdown",
      "metadata": {
        "id": "view-in-github",
        "colab_type": "text"
      },
      "source": [
        "<a href=\"https://colab.research.google.com/github/aishwaryabit1603/Artificial_Intelligence/blob/main/best__first_search.ipynb\" target=\"_parent\"><img src=\"https://colab.research.google.com/assets/colab-badge.svg\" alt=\"Open In Colab\"/></a>"
      ]
    },
    {
      "cell_type": "code",
      "execution_count": 44,
      "metadata": {
        "id": "sV4bP2Z6v4NW"
      },
      "outputs": [],
      "source": [
        "graph = {\n",
        "    'S' : ['A','B','C'],\n",
        "    'B' : ['D','H'],\n",
        "    'H' : ['F','G'],\n",
        "    'G' : ['E']\n",
        "}\n",
        "heuristic = {\n",
        "    'S' : 10,\n",
        "    'A' : 9,\n",
        "    'B' : 7,\n",
        "    'C' : 8,\n",
        "    'D' : 8,\n",
        "    'H' : 6,\n",
        "    'F' : 6,\n",
        "    'G' : 3,\n",
        "    'E' : 0\n",
        "}"
      ]
    },
    {
      "cell_type": "code",
      "source": [
        "from queue import PriorityQueue\n",
        "def best_first_search(start,goal):\n",
        "  # open - heuristic , node\n",
        "  # close - node , parent\n",
        "  ans = False;\n",
        "  open = PriorityQueue()\n",
        "  close = []\n",
        "  open.put([heuristic[start],start])\n",
        "  while not open.empty():\n",
        "    h,node = open.get()\n",
        "\n",
        "    if node == goal:\n",
        "      print(\"Goal Node Found\")\n",
        "      ans = True\n",
        "      print(\"Path \")\n",
        "      close.append(goal)\n",
        "      print(close)\n",
        "      return\n",
        "\n",
        "    close.append(node)\n",
        "    if node not in graph:\n",
        "      continue\n",
        "\n",
        "    for i in graph[node]:\n",
        "      if i not in close:\n",
        "        k = [heuristic[i],i]\n",
        "        open.put(k)\n",
        "  if ans == False:\n",
        "    print(\"Path not Found\")"
      ],
      "metadata": {
        "id": "NDTqrViwwf6b"
      },
      "execution_count": 43,
      "outputs": []
    },
    {
      "cell_type": "code",
      "source": [
        "best_first_search('S','E')"
      ],
      "metadata": {
        "colab": {
          "base_uri": "https://localhost:8080/"
        },
        "id": "gv3izsS3ynpr",
        "outputId": "ed8f7b0d-be88-4ea7-8dd9-6667401d4fcf"
      },
      "execution_count": 42,
      "outputs": [
        {
          "output_type": "stream",
          "name": "stdout",
          "text": [
            "goal node Found\n",
            "Path\n",
            "['S', 'B', 'H', 'G', 'E']\n"
          ]
        }
      ]
    },
    {
      "cell_type": "code",
      "source": [],
      "metadata": {
        "id": "t3yAq6kVlrSQ"
      },
      "execution_count": 39,
      "outputs": []
    }
  ]
}