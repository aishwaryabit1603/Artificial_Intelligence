{
  "nbformat": 4,
  "nbformat_minor": 0,
  "metadata": {
    "colab": {
      "provenance": [],
      "authorship_tag": "ABX9TyMzxTPVkI/Mb8eMSH9bELPM",
      "include_colab_link": true
    },
    "kernelspec": {
      "name": "python3",
      "display_name": "Python 3"
    },
    "language_info": {
      "name": "python"
    }
  },
  "cells": [
    {
      "cell_type": "markdown",
      "metadata": {
        "id": "view-in-github",
        "colab_type": "text"
      },
      "source": [
        "<a href=\"https://colab.research.google.com/github/aishwaryabit1603/Artificial_Intelligence/blob/main/best__first_search.ipynb\" target=\"_parent\"><img src=\"https://colab.research.google.com/assets/colab-badge.svg\" alt=\"Open In Colab\"/></a>"
      ]
    },
    {
      "cell_type": "code",
      "execution_count": 3,
      "metadata": {
        "id": "sV4bP2Z6v4NW"
      },
      "outputs": [],
      "source": [
        "graph = {\n",
        "    'A': [[10, 'B'], [8, 'J'], [9, 'F']],\n",
        "    'B': [[4, 'D'], [2, 'C']],\n",
        "    'J': [[0, 'K']],\n",
        "    'F': [[5, 'E'], [3, 'G']],\n",
        "    'C': [[0, 'H']],\n",
        "    'E': [[6, 'I']],\n",
        "    'I': [[0, 'K']]\n",
        "}"
      ]
    },
    {
      "cell_type": "code",
      "source": [
        "import random\n",
        "\n",
        "def best_first_search(start,goal,parent,Hvalue):\n",
        "  # open - heuristic , node, parent\n",
        "  # close - node\n",
        "\n",
        "  open = []\n",
        "  close = []\n",
        "  open.append([Hvalue,start,parent])\n",
        "\n",
        "  while 1:\n",
        "\n",
        "    print(\"open - \",open)\n",
        "    print(\"close - \",close)\n",
        "\n",
        "    h,node,parent = open.pop(0)\n",
        "    close.append(node)\n",
        "\n",
        "    if node in goal:\n",
        "      print()\n",
        "      print(\"Goal Node Found\")\n",
        "      print(\"Path \")\n",
        "      print(close)\n",
        "      break\n",
        "\n",
        "    if node not in graph:\n",
        "      continue\n",
        "\n",
        "    for child in graph[node]:\n",
        "      if child[1] not in close:\n",
        "        ele = [child[0],child[1],node]\n",
        "        open.append(ele)\n",
        "\n",
        "    open.sort()"
      ],
      "metadata": {
        "id": "NDTqrViwwf6b"
      },
      "execution_count": 4,
      "outputs": []
    },
    {
      "cell_type": "code",
      "source": [
        "goal = ['H','K']\n",
        "best_first_search('A',goal,'-',10)"
      ],
      "metadata": {
        "colab": {
          "base_uri": "https://localhost:8080/"
        },
        "id": "gv3izsS3ynpr",
        "outputId": "64b71522-ab8a-4bd8-b232-4d929dfbc1de"
      },
      "execution_count": 5,
      "outputs": [
        {
          "output_type": "stream",
          "name": "stdout",
          "text": [
            "open -  [[10, 'A', '-']]\n",
            "close -  []\n",
            "open -  [[8, 'J', 'A'], [9, 'F', 'A'], [10, 'B', 'A']]\n",
            "close -  ['A']\n",
            "open -  [[0, 'K', 'J'], [9, 'F', 'A'], [10, 'B', 'A']]\n",
            "close -  ['A', 'J']\n",
            "\n",
            "Goal Node Found\n",
            "Path \n",
            "['A', 'J', 'K']\n"
          ]
        }
      ]
    },
    {
      "cell_type": "code",
      "source": [],
      "metadata": {
        "id": "t3yAq6kVlrSQ"
      },
      "execution_count": null,
      "outputs": []
    }
  ]
}